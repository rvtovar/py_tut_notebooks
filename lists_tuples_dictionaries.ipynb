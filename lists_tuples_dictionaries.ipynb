{
 "cells": [
  {
   "metadata": {},
   "cell_type": "markdown",
   "source": [
    "## Lists, Tuples, and Dictionaries\n",
    "\n",
    "- Lists are ordered, mutable, and allow duplicate elements.\n",
    "- Tuples are ordered, immutable, and allow duplicate elements.\n",
    "- Dictionaries are unordered, mutable, and indexed. They do not allow duplicate elements."
   ],
   "id": "84ac527f72c0e4a7"
  },
  {
   "metadata": {
    "ExecuteTime": {
     "end_time": "2025-03-12T23:10:56.607380Z",
     "start_time": "2025-03-12T23:10:56.602467Z"
    }
   },
   "cell_type": "code",
   "source": "names = ['John', 'Paul', 'George', 'Ringo']",
   "id": "eb9edaff5e44fd2e",
   "outputs": [],
   "execution_count": 1
  },
  {
   "metadata": {
    "ExecuteTime": {
     "end_time": "2025-03-12T23:11:12.215953Z",
     "start_time": "2025-03-12T23:11:12.210262Z"
    }
   },
   "cell_type": "code",
   "source": "names[0]",
   "id": "e86e1310e13894bb",
   "outputs": [
    {
     "data": {
      "text/plain": [
       "'John'"
      ]
     },
     "execution_count": 2,
     "metadata": {},
     "output_type": "execute_result"
    }
   ],
   "execution_count": 2
  },
  {
   "metadata": {
    "ExecuteTime": {
     "end_time": "2025-03-12T23:12:04.821898Z",
     "start_time": "2025-03-12T23:12:04.816688Z"
    }
   },
   "cell_type": "code",
   "source": [
    "#We can sub index\n",
    "# this means it will return up to but not including the second index\n",
    "# so it will return a list of the first two elements\n",
    "names[0:2]"
   ],
   "id": "fa534148e010d69a",
   "outputs": [
    {
     "data": {
      "text/plain": [
       "['John', 'Paul']"
      ]
     },
     "execution_count": 4,
     "metadata": {},
     "output_type": "execute_result"
    }
   ],
   "execution_count": 4
  },
  {
   "metadata": {
    "ExecuteTime": {
     "end_time": "2025-03-12T23:12:26.071940Z",
     "start_time": "2025-03-12T23:12:26.064696Z"
    }
   },
   "cell_type": "code",
   "source": [
    "# We can also use negative indexing\n",
    "# this will return the last element in the list\n",
    "names[-1]"
   ],
   "id": "609fbd4ca17db49f",
   "outputs": [
    {
     "data": {
      "text/plain": [
       "'Ringo'"
      ]
     },
     "execution_count": 5,
     "metadata": {},
     "output_type": "execute_result"
    }
   ],
   "execution_count": 5
  },
  {
   "metadata": {
    "ExecuteTime": {
     "end_time": "2025-03-12T23:13:25.335811Z",
     "start_time": "2025-03-12T23:13:25.331489Z"
    }
   },
   "cell_type": "code",
   "source": "names[:-2]",
   "id": "aca5e3ca4dd3e057",
   "outputs": [
    {
     "data": {
      "text/plain": [
       "['John', 'Paul']"
      ]
     },
     "execution_count": 8,
     "metadata": {},
     "output_type": "execute_result"
    }
   ],
   "execution_count": 8
  },
  {
   "metadata": {
    "ExecuteTime": {
     "end_time": "2025-03-12T23:13:46.689583Z",
     "start_time": "2025-03-12T23:13:46.685701Z"
    }
   },
   "cell_type": "code",
   "source": [
    "# Add to a list with append\n",
    "names.append('Pete')"
   ],
   "id": "365d93198b31fc1",
   "outputs": [],
   "execution_count": 10
  },
  {
   "metadata": {
    "ExecuteTime": {
     "end_time": "2025-03-12T23:13:48.427769Z",
     "start_time": "2025-03-12T23:13:48.422790Z"
    }
   },
   "cell_type": "code",
   "source": "names",
   "id": "57547190ef59328c",
   "outputs": [
    {
     "data": {
      "text/plain": [
       "['John', 'Paul', 'George', 'Ringo', 'Pete']"
      ]
     },
     "execution_count": 11,
     "metadata": {},
     "output_type": "execute_result"
    }
   ],
   "execution_count": 11
  },
  {
   "metadata": {
    "ExecuteTime": {
     "end_time": "2025-03-12T23:14:19.730213Z",
     "start_time": "2025-03-12T23:14:19.726880Z"
    }
   },
   "cell_type": "code",
   "source": [
    "# we can remove from a list with remove and pop\n",
    "\n",
    "# remove will remove the first instance of the element\n",
    "names.remove('Pete')"
   ],
   "id": "72e99f851ac21508",
   "outputs": [],
   "execution_count": 12
  },
  {
   "metadata": {
    "ExecuteTime": {
     "end_time": "2025-03-12T23:14:23.121314Z",
     "start_time": "2025-03-12T23:14:23.118872Z"
    }
   },
   "cell_type": "code",
   "source": "names",
   "id": "475d992dba5e4362",
   "outputs": [
    {
     "data": {
      "text/plain": [
       "['John', 'Paul', 'George', 'Ringo']"
      ]
     },
     "execution_count": 13,
     "metadata": {},
     "output_type": "execute_result"
    }
   ],
   "execution_count": 13
  },
  {
   "metadata": {
    "ExecuteTime": {
     "end_time": "2025-03-12T23:14:37.945513Z",
     "start_time": "2025-03-12T23:14:37.942228Z"
    }
   },
   "cell_type": "code",
   "source": "ringo = names.pop()",
   "id": "d41d06c95fb30e6d",
   "outputs": [],
   "execution_count": 14
  },
  {
   "metadata": {
    "ExecuteTime": {
     "end_time": "2025-03-12T23:14:41.330088Z",
     "start_time": "2025-03-12T23:14:41.327562Z"
    }
   },
   "cell_type": "code",
   "source": "names",
   "id": "2ecbc3099e49c3fb",
   "outputs": [
    {
     "data": {
      "text/plain": [
       "['John', 'Paul', 'George']"
      ]
     },
     "execution_count": 15,
     "metadata": {},
     "output_type": "execute_result"
    }
   ],
   "execution_count": 15
  },
  {
   "metadata": {
    "ExecuteTime": {
     "end_time": "2025-03-12T23:14:53.382471Z",
     "start_time": "2025-03-12T23:14:53.377948Z"
    }
   },
   "cell_type": "code",
   "source": [
    "# and ringo has been saved to the new variable ringo\n",
    "ringo"
   ],
   "id": "7e0c6561ee08d194",
   "outputs": [
    {
     "data": {
      "text/plain": [
       "'Ringo'"
      ]
     },
     "execution_count": 16,
     "metadata": {},
     "output_type": "execute_result"
    }
   ],
   "execution_count": 16
  },
  {
   "metadata": {
    "ExecuteTime": {
     "end_time": "2025-03-12T23:15:23.642416Z",
     "start_time": "2025-03-12T23:15:23.638570Z"
    }
   },
   "cell_type": "code",
   "source": [
    "# we can also insert at a specific index\n",
    "names.insert(2, 'Pete')\n",
    "names"
   ],
   "id": "1d77af5f9dbc0be8",
   "outputs": [
    {
     "data": {
      "text/plain": [
       "['John', 'Paul', 'Pete', 'George']"
      ]
     },
     "execution_count": 17,
     "metadata": {},
     "output_type": "execute_result"
    }
   ],
   "execution_count": 17
  },
  {
   "metadata": {
    "ExecuteTime": {
     "end_time": "2025-03-12T23:16:04.431325Z",
     "start_time": "2025-03-12T23:16:04.427783Z"
    }
   },
   "cell_type": "code",
   "source": [
    "# we also have multi demiensional lists\n",
    "# this is a list of lists\n",
    "nums = [\n",
    "    [1, 2, 3],\n",
    "    [4, 5, 6],\n",
    "    [7, 8, 9]\n",
    "]"
   ],
   "id": "bce363ed5a9f18aa",
   "outputs": [],
   "execution_count": 19
  },
  {
   "metadata": {
    "ExecuteTime": {
     "end_time": "2025-03-12T23:17:14.565489Z",
     "start_time": "2025-03-12T23:17:14.560986Z"
    }
   },
   "cell_type": "code",
   "source": [
    "# The first index is for which list we want to access\n",
    "# the second index is for which element in that list we want to access\n",
    "# 0 is for which list we want to access\n",
    "# 2 is for which element in that list we want to access\n",
    "\n",
    "nums[0][2]"
   ],
   "id": "5d95a52f7f6e351",
   "outputs": [
    {
     "data": {
      "text/plain": [
       "3"
      ]
     },
     "execution_count": 22,
     "metadata": {},
     "output_type": "execute_result"
    }
   ],
   "execution_count": 22
  },
  {
   "metadata": {
    "ExecuteTime": {
     "end_time": "2025-03-12T23:17:50.333479Z",
     "start_time": "2025-03-12T23:17:50.329886Z"
    }
   },
   "cell_type": "code",
   "source": [
    "# Tuples are immutable\n",
    "# this means we can't change them\n",
    "# we can't add or remove elements\n",
    "\n",
    "# we can create a tuple with parentheses\n",
    "tup = (1, 2, 3)"
   ],
   "id": "f293bbcfd112e64f",
   "outputs": [],
   "execution_count": 23
  },
  {
   "metadata": {
    "ExecuteTime": {
     "end_time": "2025-03-12T23:18:07.095488Z",
     "start_time": "2025-03-12T23:18:07.091020Z"
    }
   },
   "cell_type": "code",
   "source": [
    "# we can access elements in a tuple the same way we do with lists\n",
    "tup[0]"
   ],
   "id": "6a49f0388e087490",
   "outputs": [
    {
     "data": {
      "text/plain": [
       "1"
      ]
     },
     "execution_count": 24,
     "metadata": {},
     "output_type": "execute_result"
    }
   ],
   "execution_count": 24
  },
  {
   "metadata": {
    "ExecuteTime": {
     "end_time": "2025-03-12T23:18:48.358143Z",
     "start_time": "2025-03-12T23:18:48.354254Z"
    }
   },
   "cell_type": "code",
   "source": [
    "# Dictionary\n",
    "# Dictionaries are key value pairs\n",
    "\n",
    "states = {\n",
    "    \"Key\": \"Value\",\n",
    "    'CA': 'California',\n",
    "    'NY': 'New York',\n",
    "    'TX': 'Texas'\n",
    "}"
   ],
   "id": "75e307120a2d3831",
   "outputs": [],
   "execution_count": 25
  },
  {
   "metadata": {
    "ExecuteTime": {
     "end_time": "2025-03-12T23:18:55.854333Z",
     "start_time": "2025-03-12T23:18:55.850764Z"
    }
   },
   "cell_type": "code",
   "source": "states[\"Key\"]",
   "id": "da1cf391b348600d",
   "outputs": [
    {
     "data": {
      "text/plain": [
       "'Value'"
      ]
     },
     "execution_count": 26,
     "metadata": {},
     "output_type": "execute_result"
    }
   ],
   "execution_count": 26
  },
  {
   "metadata": {
    "ExecuteTime": {
     "end_time": "2025-03-12T23:19:01.388400Z",
     "start_time": "2025-03-12T23:19:01.384368Z"
    }
   },
   "cell_type": "code",
   "source": "states[\"CA\"]",
   "id": "e6ee5092cc8f9984",
   "outputs": [
    {
     "data": {
      "text/plain": [
       "'California'"
      ]
     },
     "execution_count": 27,
     "metadata": {},
     "output_type": "execute_result"
    }
   ],
   "execution_count": 27
  },
  {
   "metadata": {
    "ExecuteTime": {
     "end_time": "2025-03-12T23:19:23.751705Z",
     "start_time": "2025-03-12T23:19:23.747899Z"
    }
   },
   "cell_type": "code",
   "source": "states[\"TN\"] = \"Tennessee\"",
   "id": "54daf31bd282f6d2",
   "outputs": [],
   "execution_count": 28
  },
  {
   "metadata": {
    "ExecuteTime": {
     "end_time": "2025-03-12T23:19:25.919986Z",
     "start_time": "2025-03-12T23:19:25.917307Z"
    }
   },
   "cell_type": "code",
   "source": "states",
   "id": "7bb72179628797e4",
   "outputs": [
    {
     "data": {
      "text/plain": [
       "{'Key': 'Value',\n",
       " 'CA': 'California',\n",
       " 'NY': 'New York',\n",
       " 'TX': 'Texas',\n",
       " 'TN': 'Tennessee'}"
      ]
     },
     "execution_count": 29,
     "metadata": {},
     "output_type": "execute_result"
    }
   ],
   "execution_count": 29
  },
  {
   "metadata": {
    "ExecuteTime": {
     "end_time": "2025-03-12T23:19:43.087674Z",
     "start_time": "2025-03-12T23:19:43.084745Z"
    }
   },
   "cell_type": "code",
   "source": [
    "# to remove a key value pair we have 2 ways\n",
    "# we can use the pop method\n",
    "states.pop(\"Key\")"
   ],
   "id": "c12d7bf5d53e26f3",
   "outputs": [
    {
     "data": {
      "text/plain": [
       "'Value'"
      ]
     },
     "execution_count": 30,
     "metadata": {},
     "output_type": "execute_result"
    }
   ],
   "execution_count": 30
  },
  {
   "metadata": {
    "ExecuteTime": {
     "end_time": "2025-03-12T23:19:45.420110Z",
     "start_time": "2025-03-12T23:19:45.417657Z"
    }
   },
   "cell_type": "code",
   "source": "states",
   "id": "8e63b5461c9ddff2",
   "outputs": [
    {
     "data": {
      "text/plain": [
       "{'CA': 'California', 'NY': 'New York', 'TX': 'Texas', 'TN': 'Tennessee'}"
      ]
     },
     "execution_count": 31,
     "metadata": {},
     "output_type": "execute_result"
    }
   ],
   "execution_count": 31
  },
  {
   "metadata": {
    "ExecuteTime": {
     "end_time": "2025-03-12T23:19:58.982881Z",
     "start_time": "2025-03-12T23:19:58.980333Z"
    }
   },
   "cell_type": "code",
   "source": [
    "# and we have the del keyword\n",
    "del states[\"TN\"]"
   ],
   "id": "38d9defcdc3ae7d6",
   "outputs": [],
   "execution_count": 32
  },
  {
   "metadata": {
    "ExecuteTime": {
     "end_time": "2025-03-12T23:20:01.204047Z",
     "start_time": "2025-03-12T23:20:01.201258Z"
    }
   },
   "cell_type": "code",
   "source": "states",
   "id": "63d7a6c4f6112369",
   "outputs": [
    {
     "data": {
      "text/plain": [
       "{'CA': 'California', 'NY': 'New York', 'TX': 'Texas'}"
      ]
     },
     "execution_count": 33,
     "metadata": {},
     "output_type": "execute_result"
    }
   ],
   "execution_count": 33
  },
  {
   "metadata": {
    "ExecuteTime": {
     "end_time": "2025-03-12T23:20:21.850287Z",
     "start_time": "2025-03-12T23:20:21.848127Z"
    }
   },
   "cell_type": "code",
   "source": "# Your value can be of any data type",
   "id": "dc5bd67074351a85",
   "outputs": [],
   "execution_count": 34
  },
  {
   "metadata": {
    "ExecuteTime": {
     "end_time": "2025-03-12T23:20:41.964657Z",
     "start_time": "2025-03-12T23:20:41.960999Z"
    }
   },
   "cell_type": "code",
   "source": [
    "random = {\n",
    "    \"Name\": \"John\",\n",
    "    \"Age\": 30,\n",
    "    \"Married\": True,\n",
    "    \"Pets\": [\"Dog\", \"Cat\"]\n",
    "}"
   ],
   "id": "2fbff7538b9b8743",
   "outputs": [],
   "execution_count": 35
  },
  {
   "metadata": {
    "ExecuteTime": {
     "end_time": "2025-03-12T23:21:16.245766Z",
     "start_time": "2025-03-12T23:21:16.240316Z"
    }
   },
   "cell_type": "code",
   "source": [
    "# lets look at the Pets Key and then inside that list the second element\n",
    "random[\"Pets\"][1]"
   ],
   "id": "1a5a43ce8f9b8fec",
   "outputs": [
    {
     "data": {
      "text/plain": [
       "'Cat'"
      ]
     },
     "execution_count": 38,
     "metadata": {},
     "output_type": "execute_result"
    }
   ],
   "execution_count": 38
  },
  {
   "metadata": {
    "ExecuteTime": {
     "end_time": "2025-03-12T23:22:10.676269Z",
     "start_time": "2025-03-12T23:22:10.671342Z"
    }
   },
   "cell_type": "code",
   "source": [
    "# WE have loops\n",
    "# we can loop through lists, tuple, or a dictionary\n",
    "\n",
    "# for loop\n",
    "names"
   ],
   "id": "2bc6c1295a2ffb3e",
   "outputs": [
    {
     "data": {
      "text/plain": [
       "['John', 'Paul', 'Pete', 'George']"
      ]
     },
     "execution_count": 39,
     "metadata": {},
     "output_type": "execute_result"
    }
   ],
   "execution_count": 39
  },
  {
   "metadata": {
    "ExecuteTime": {
     "end_time": "2025-03-12T23:22:38.488772Z",
     "start_time": "2025-03-12T23:22:38.485170Z"
    }
   },
   "cell_type": "code",
   "source": [
    "for elem in names:\n",
    "    print(f\"Hello {elem}\")"
   ],
   "id": "659a468609ec4eea",
   "outputs": [
    {
     "name": "stdout",
     "output_type": "stream",
     "text": [
      "Hello John\n",
      "Hello Paul\n",
      "Hello Pete\n",
      "Hello George\n"
     ]
    }
   ],
   "execution_count": 40
  },
  {
   "metadata": {
    "ExecuteTime": {
     "end_time": "2025-03-12T23:23:14.333222Z",
     "start_time": "2025-03-12T23:23:14.326888Z"
    }
   },
   "cell_type": "code",
   "source": [
    "for index,elem in enumerate(names):\n",
    "    print(f\"Hello {elem} at index {index}\")"
   ],
   "id": "d05fa099b51f0a95",
   "outputs": [
    {
     "name": "stdout",
     "output_type": "stream",
     "text": [
      "Hello John at index 0\n",
      "Hello Paul at index 1\n",
      "Hello Pete at index 2\n",
      "Hello George at index 3\n"
     ]
    }
   ],
   "execution_count": 41
  },
  {
   "metadata": {
    "ExecuteTime": {
     "end_time": "2025-03-12T23:23:58.490719Z",
     "start_time": "2025-03-12T23:23:58.485991Z"
    }
   },
   "cell_type": "code",
   "source": [
    "#lets say you want to loop through 0 to 10\n",
    "# we can use the range function\n",
    "\n",
    "for i in range(10):\n",
    "    print(i)"
   ],
   "id": "ab6e29893e723a27",
   "outputs": [
    {
     "name": "stdout",
     "output_type": "stream",
     "text": [
      "0\n",
      "1\n",
      "2\n",
      "3\n",
      "4\n",
      "5\n",
      "6\n",
      "7\n",
      "8\n",
      "9\n"
     ]
    }
   ],
   "execution_count": 42
  },
  {
   "metadata": {
    "ExecuteTime": {
     "end_time": "2025-03-12T23:25:51.151008Z",
     "start_time": "2025-03-12T23:25:51.142857Z"
    }
   },
   "cell_type": "code",
   "source": [
    "# We can do fizz buzz\n",
    "# if a number is divisible by 3 print fizz\n",
    "# if a number is divisible by 5 print buzz\n",
    "# if a number is divisible by both print fizzbuzz\n",
    "\n",
    "for i in range(1,101): # this means it starts at 1 and goes to 100, 101 is not included.\n",
    "    if i % 3 == 0 and i % 5 == 0:\n",
    "        print(f\"{i}: FizzBuzz\")\n",
    "    elif i % 3 == 0:\n",
    "        print(f\"{i}: Fizz\")\n",
    "    elif i % 5 == 0:\n",
    "        print(f\"{i}: Buzz\")"
   ],
   "id": "3d407e519b135cf2",
   "outputs": [
    {
     "name": "stdout",
     "output_type": "stream",
     "text": [
      "3: Fizz\n",
      "5: Buzz\n",
      "6: Fizz\n",
      "9: Fizz\n",
      "10: Buzz\n",
      "12: Fizz\n",
      "15: FizzBuzz\n",
      "18: Fizz\n",
      "20: Buzz\n",
      "21: Fizz\n",
      "24: Fizz\n",
      "25: Buzz\n",
      "27: Fizz\n",
      "30: FizzBuzz\n",
      "33: Fizz\n",
      "35: Buzz\n",
      "36: Fizz\n",
      "39: Fizz\n",
      "40: Buzz\n",
      "42: Fizz\n",
      "45: FizzBuzz\n",
      "48: Fizz\n",
      "50: Buzz\n",
      "51: Fizz\n",
      "54: Fizz\n",
      "55: Buzz\n",
      "57: Fizz\n",
      "60: FizzBuzz\n",
      "63: Fizz\n",
      "65: Buzz\n",
      "66: Fizz\n",
      "69: Fizz\n",
      "70: Buzz\n",
      "72: Fizz\n",
      "75: FizzBuzz\n",
      "78: Fizz\n",
      "80: Buzz\n",
      "81: Fizz\n",
      "84: Fizz\n",
      "85: Buzz\n",
      "87: Fizz\n",
      "90: FizzBuzz\n",
      "93: Fizz\n",
      "95: Buzz\n",
      "96: Fizz\n",
      "99: Fizz\n",
      "100: Buzz\n"
     ]
    }
   ],
   "execution_count": 43
  },
  {
   "metadata": {
    "ExecuteTime": {
     "end_time": "2025-03-12T23:27:51.758739Z",
     "start_time": "2025-03-12T23:27:51.755253Z"
    }
   },
   "cell_type": "code",
   "source": [
    "# we can also loop through a dictionary\n",
    "# the word key in the loop is a variable name, you can name it anything you want, but you must use the same name in the loop\n",
    "\n",
    "for key in states:\n",
    "    print(f\"{key}: {states[key]}\")"
   ],
   "id": "89015ad6b5e1d84",
   "outputs": [
    {
     "name": "stdout",
     "output_type": "stream",
     "text": [
      "CA: California\n",
      "NY: New York\n",
      "TX: Texas\n"
     ]
    }
   ],
   "execution_count": 44
  },
  {
   "metadata": {
    "ExecuteTime": {
     "end_time": "2025-03-12T23:28:34.089727Z",
     "start_time": "2025-03-12T23:28:34.083289Z"
    }
   },
   "cell_type": "code",
   "source": [
    "for key,value in states.items(): # Once again key, and value are variable names, you can name them anything you want, but you must use the same name in the loop\n",
    "    print(f\"{key}: {value}\")"
   ],
   "id": "b3c4f5999b4d1c2c",
   "outputs": [
    {
     "name": "stdout",
     "output_type": "stream",
     "text": [
      "CA: California\n",
      "NY: New York\n",
      "TX: Texas\n"
     ]
    }
   ],
   "execution_count": 45
  },
  {
   "metadata": {},
   "cell_type": "code",
   "outputs": [],
   "execution_count": null,
   "source": "",
   "id": "ab150861685923d7"
  }
 ],
 "metadata": {
  "kernelspec": {
   "display_name": "Python 3",
   "language": "python",
   "name": "python3"
  },
  "language_info": {
   "codemirror_mode": {
    "name": "ipython",
    "version": 2
   },
   "file_extension": ".py",
   "mimetype": "text/x-python",
   "name": "python",
   "nbconvert_exporter": "python",
   "pygments_lexer": "ipython2",
   "version": "2.7.6"
  }
 },
 "nbformat": 4,
 "nbformat_minor": 5
}
