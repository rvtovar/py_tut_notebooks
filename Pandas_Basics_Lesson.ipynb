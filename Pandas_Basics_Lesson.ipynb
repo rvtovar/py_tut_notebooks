{
 "cells": [
  {
   "cell_type": "markdown",
   "metadata": {},
   "source": [
    "# Lesson: Basics of Pandas\n",
    "\n",
    "## Introduction\n",
    "\n",
    "Pandas is a powerful library for data manipulation and analysis in Python. It provides data structures like Series and DataFrame, which are essential for handling and analyzing structured data. In this lesson, we will cover the basics of Pandas, including how to create Series and DataFrames, perform basic operations, and use some of its essential functions.\n",
    "\n",
    "### Prerequisites\n",
    "- Basic understanding of Python programming\n",
    "- Python installed on your machine\n",
    "- Pandas library installed (`pip install pandas`)\n"
   ]
  },
  {
   "cell_type": "markdown",
   "metadata": {},
   "source": [
    "## 1. Importing Pandas\n",
    "\n",
    "Before using Pandas, you need to import it. The convention is to import it as `pd`.\n",
    "\n",
    "```python\n",
    "import pandas as pd\n",
    "```\n"
   ]
  },
  {
   "cell_type": "code",
   "metadata": {
    "ExecuteTime": {
     "end_time": "2025-03-19T23:46:08.617057Z",
     "start_time": "2025-03-19T23:46:07.735358Z"
    }
   },
   "source": [
    "import pandas as pd"
   ],
   "outputs": [],
   "execution_count": 1
  },
  {
   "cell_type": "markdown",
   "metadata": {},
   "source": [
    "## 2. Creating Series\n",
    "\n",
    "A Series is a one-dimensional array-like object containing a sequence of values and an associated array of data labels, called its index.\n",
    "\n",
    "### 2.1. Creating a Series from a List\n",
    "\n",
    "You can create a Series from a Python list using the `pd.Series()` function.\n",
    "\n",
    "```python\n",
    "# Creating a Series\n",
    "s = pd.Series([1, 2, 3, 4, 5])\n",
    "print(s)\n",
    "```\n"
   ]
  },
  {
   "cell_type": "code",
   "metadata": {
    "ExecuteTime": {
     "end_time": "2025-03-19T23:46:24.663189Z",
     "start_time": "2025-03-19T23:46:24.657905Z"
    }
   },
   "source": [
    "# Creating a Series\n",
    "s = pd.Series([1, 2, 3, 4, 5])\n",
    "print(s)"
   ],
   "outputs": [
    {
     "name": "stdout",
     "output_type": "stream",
     "text": [
      "0    1\n",
      "1    2\n",
      "2    3\n",
      "3    4\n",
      "4    5\n",
      "dtype: int64\n"
     ]
    }
   ],
   "execution_count": 2
  },
  {
   "cell_type": "markdown",
   "metadata": {},
   "source": [
    "## 3. Creating DataFrames\n",
    "\n",
    "A DataFrame is a two-dimensional, size-mutable, and potentially heterogeneous tabular data structure with labeled axes (rows and columns).\n",
    "\n",
    "### 3.1. Creating a DataFrame from a Dictionary\n",
    "\n",
    "You can create a DataFrame from a dictionary using the `pd.DataFrame()` function.\n",
    "\n",
    "```python\n",
    "# Creating a DataFrame\n",
    "data = {\n",
    "    'Name': ['Alice', 'Bob', 'Charlie'],\n",
    "    'Age': [25, 30, 35],\n",
    "    'City': ['New York', 'Los Angeles', 'Chicago']\n",
    "}\n",
    "df = pd.DataFrame(data)\n",
    "print(df)\n",
    "```\n"
   ]
  },
  {
   "cell_type": "code",
   "metadata": {
    "ExecuteTime": {
     "end_time": "2025-03-19T23:50:04.428878Z",
     "start_time": "2025-03-19T23:50:04.419485Z"
    }
   },
   "source": [
    "# Creating a DataFrame\n",
    "data = {\n",
    "    'Name': ['Alice', 'Bob', 'Charlie'],\n",
    "    'Age': [25, 30, 35],\n",
    "    'City': ['New York', 'Los Angeles', 'Chicago']\n",
    "}\n",
    "df = pd.DataFrame(data)\n",
    "print(df)"
   ],
   "outputs": [
    {
     "name": "stdout",
     "output_type": "stream",
     "text": [
      "      Name  Age         City\n",
      "0    Alice   25     New York\n",
      "1      Bob   30  Los Angeles\n",
      "2  Charlie   35      Chicago\n"
     ]
    }
   ],
   "execution_count": 4
  },
  {
   "cell_type": "markdown",
   "metadata": {},
   "source": [
    "## 4. DataFrame Operations\n",
    "\n",
    "### 4.1. Basic Operations\n",
    "\n",
    "You can perform basic operations on DataFrames, such as selecting columns, filtering rows, and adding new columns.\n",
    "\n",
    "```python\n",
    "# Selecting a column\n",
    "print(df['Name'])\n",
    "\n",
    "# Filtering rows\n",
    "print(df[df['Age'] > 25])\n",
    "\n",
    "# Adding a new column\n",
    "df['Salary'] = [50000, 60000, 70000]\n",
    "print(df)\n",
    "```\n"
   ]
  },
  {
   "cell_type": "code",
   "metadata": {
    "ExecuteTime": {
     "end_time": "2025-03-19T23:51:29.056148Z",
     "start_time": "2025-03-19T23:51:29.048619Z"
    }
   },
   "source": [
    "# Selecting a column\n",
    "print(df['Name'])\n",
    "\n",
    "# Filtering rows\n",
    "print(\"Age < 30\")\n",
    "print(df[df['Age'] <= 30])\n",
    "\n",
    "# Adding a new column\n",
    "df['Salary'] = [50000, 60000, 70000]\n",
    "print(df)\n"
   ],
   "outputs": [
    {
     "name": "stdout",
     "output_type": "stream",
     "text": [
      "0      Alice\n",
      "1        Bob\n",
      "2    Charlie\n",
      "Name: Name, dtype: object\n",
      "Age < 30\n",
      "    Name  Age         City  Salary\n",
      "0  Alice   25     New York   50000\n",
      "1    Bob   30  Los Angeles   60000\n",
      "      Name  Age         City  Salary\n",
      "0    Alice   25     New York   50000\n",
      "1      Bob   30  Los Angeles   60000\n",
      "2  Charlie   35      Chicago   70000\n"
     ]
    }
   ],
   "execution_count": 7
  },
  {
   "cell_type": "markdown",
   "metadata": {},
   "source": [
    "## 5. Data Import and Export\n",
    "\n",
    "Pandas provides functions to read data from various file formats and export data to different formats.\n",
    "\n",
    "### 5.1. Reading Data from a CSV File\n",
    "\n",
    "You can read data from a CSV file using the `pd.read_csv()` function.\n",
    "\n",
    "```python\n",
    "# Reading data from a CSV file\n",
    "# df = pd.read_csv('data.csv')\n",
    "# print(df)\n",
    "```\n"
   ]
  },
  {
   "cell_type": "markdown",
   "metadata": {},
   "source": [
    "### 5.2. Exporting Data to a CSV File\n",
    "\n",
    "You can export data to a CSV file using the `to_csv()` method of a DataFrame.\n",
    "\n",
    "```python\n",
    "# Exporting data to a CSV file\n",
    "# df.to_csv('output.csv', index=False)\n",
    "```\n",
    "\n",
    "\n"
   ]
  },
  {
   "metadata": {
    "ExecuteTime": {
     "end_time": "2025-03-19T23:54:46.944711Z",
     "start_time": "2025-03-19T23:54:46.937548Z"
    }
   },
   "cell_type": "code",
   "source": [
    "df = pd.read_csv('data.csv')\n",
    "\n",
    "#lets add a row to the df\n",
    "\n",
    "df.loc[5] = ['Celty', 40, 'Miami', 80000]\n",
    "print(df)\n",
    "\n",
    "#you can modify a datafram"
   ],
   "outputs": [
    {
     "name": "stdout",
     "output_type": "stream",
     "text": [
      "      Name  Age         City  Salary\n",
      "0    Alice   25     New York   50000\n",
      "1      Bob   30  Los Angeles   60000\n",
      "2  Charlie   35      Chicago   70000\n",
      "3    David   40      Houston   80000\n",
      "4      Eve   45        Miami   90000\n",
      "5    Celty   40        Miami   80000\n"
     ]
    }
   ],
   "execution_count": 16
  },
  {
   "metadata": {
    "ExecuteTime": {
     "end_time": "2025-03-19T23:54:53.756369Z",
     "start_time": "2025-03-19T23:54:53.752089Z"
    }
   },
   "cell_type": "code",
   "source": [
    "df.loc[5, 'City'] = 'New York'\n",
    "print(df)"
   ],
   "outputs": [
    {
     "name": "stdout",
     "output_type": "stream",
     "text": [
      "      Name  Age         City  Salary\n",
      "0    Alice   25     New York   50000\n",
      "1      Bob   30  Los Angeles   60000\n",
      "2  Charlie   35      Chicago   70000\n",
      "3    David   40      Houston   80000\n",
      "4      Eve   45        Miami   90000\n",
      "5    Celty   40     New York   80000\n"
     ]
    }
   ],
   "execution_count": 17
  },
  {
   "cell_type": "markdown",
   "metadata": {},
   "source": [
    "## Conclusion\n",
    "\n",
    "In this lesson, we covered the basics of Pandas, including how to create Series and DataFrames, perform basic operations, and use some of its essential functions. Pandas is a powerful library that provides many more functionalities for data manipulation and analysis, and this lesson is just the beginning. Explore more functions and features in the Pandas documentation to enhance your skills.\n",
    "\n",
    "## Exercises\n",
    "\n",
    "1. Create a DataFrame with columns `A` and `B` containing random numbers. Add a new column `C` which is the sum of `A` and `B`.\n",
    "2. Read data from a CSV file and display the first 5 rows.\n",
    "3. Filter rows in a DataFrame where the values in column `A` are greater than 50.\n",
    "4. Sort a DataFrame by column `B` in descending order.\n",
    "5. Export a DataFrame to an Excel file.\n",
    "\n",
    "Happy Learning!"
   ]
  },
  {
   "metadata": {},
   "cell_type": "code",
   "outputs": [],
   "execution_count": null,
   "source": ""
  }
 ],
 "metadata": {
  "kernelspec": {
   "display_name": "Python 3",
   "language": "python",
   "name": "python3"
  },
  "language_info": {
   "codemirror_mode": {
    "name": "ipython",
    "version": 3
   },
   "file_extension": ".py",
   "mimetype": "text/x-python",
   "name": "python",
   "nbconvert_exporter": "python",
   "pygments_lexer": "ipython3",
   "version": "3.8.5"
  }
 },
 "nbformat": 4,
 "nbformat_minor": 4
}
