{
 "cells": [
  {
   "cell_type": "code",
   "id": "initial_id",
   "metadata": {
    "collapsed": true,
    "ExecuteTime": {
     "end_time": "2025-03-12T23:29:39.744242Z",
     "start_time": "2025-03-12T23:29:39.740933Z"
    }
   },
   "source": [
    "# Functions are resuable pieces of code that can be called from anywhere in the program.\n",
    "# we have used funcitons\n",
    "# - print()\n",
    "# - input()\n",
    "# - len()\n",
    "# - range()\n",
    "# - int()"
   ],
   "outputs": [],
   "execution_count": 1
  },
  {
   "metadata": {
    "ExecuteTime": {
     "end_time": "2025-03-12T23:30:10.709396Z",
     "start_time": "2025-03-12T23:30:10.703555Z"
    }
   },
   "cell_type": "code",
   "source": [
    "# we define a function using the def keyword.\n",
    "\n",
    "\n",
    "# this function prints \"Hello World\"\n",
    "def say_hello():\n",
    "    print(\"Hello World\")"
   ],
   "id": "c02550049c1c57bb",
   "outputs": [],
   "execution_count": 2
  },
  {
   "metadata": {
    "ExecuteTime": {
     "end_time": "2025-03-12T23:30:14.954834Z",
     "start_time": "2025-03-12T23:30:14.950205Z"
    }
   },
   "cell_type": "code",
   "source": "say_hello()",
   "id": "b278921b07cc96cd",
   "outputs": [
    {
     "name": "stdout",
     "output_type": "stream",
     "text": [
      "Hello World\n"
     ]
    }
   ],
   "execution_count": 3
  },
  {
   "metadata": {
    "ExecuteTime": {
     "end_time": "2025-03-12T23:30:51.756682Z",
     "start_time": "2025-03-12T23:30:51.753440Z"
    }
   },
   "cell_type": "code",
   "source": [
    "# first we used def function_name():\n",
    "#then everythign below the function name is indented.\n",
    "# which means its part of the function."
   ],
   "id": "a5dd485358b39f0e",
   "outputs": [],
   "execution_count": 4
  },
  {
   "metadata": {
    "ExecuteTime": {
     "end_time": "2025-03-12T23:32:18.701552Z",
     "start_time": "2025-03-12T23:32:18.696104Z"
    }
   },
   "cell_type": "code",
   "source": [
    "# the name:str means that we are accepting a variable called name and the :str means that the variable is a string.\n",
    "\n",
    "def say_hello_user(name:str):\n",
    "    quote = f\"Hello {name}\"\n",
    "    print(quote)"
   ],
   "id": "7ce2ccf409014382",
   "outputs": [],
   "execution_count": 5
  },
  {
   "metadata": {
    "ExecuteTime": {
     "end_time": "2025-03-12T23:32:27.614619Z",
     "start_time": "2025-03-12T23:32:27.611447Z"
    }
   },
   "cell_type": "code",
   "source": "say_hello_user(\"Rose\")",
   "id": "6b275d351f4843c5",
   "outputs": [
    {
     "name": "stdout",
     "output_type": "stream",
     "text": [
      "Hello Rose\n"
     ]
    }
   ],
   "execution_count": 7
  },
  {
   "metadata": {
    "ExecuteTime": {
     "end_time": "2025-03-12T23:32:53.616097Z",
     "start_time": "2025-03-12T23:32:53.612815Z"
    }
   },
   "cell_type": "code",
   "source": [
    "def adder(x:int, y:int):\n",
    "    print(x + y)"
   ],
   "id": "2a63b022600d373f",
   "outputs": [],
   "execution_count": 8
  },
  {
   "metadata": {
    "ExecuteTime": {
     "end_time": "2025-03-12T23:32:56.422603Z",
     "start_time": "2025-03-12T23:32:56.418557Z"
    }
   },
   "cell_type": "code",
   "source": "adder(1, 2)",
   "id": "50f6a2f8cf043110",
   "outputs": [
    {
     "name": "stdout",
     "output_type": "stream",
     "text": [
      "3\n"
     ]
    }
   ],
   "execution_count": 9
  },
  {
   "metadata": {
    "ExecuteTime": {
     "end_time": "2025-03-12T23:33:34.455705Z",
     "start_time": "2025-03-12T23:33:34.452961Z"
    }
   },
   "cell_type": "code",
   "source": [
    "# it is common to return a value in a function\n",
    "# we use the return keyword to return a value.\n",
    "\n",
    "def adder(x:int, y:int):\n",
    "    return x + y"
   ],
   "id": "5824e8873b8dd3b2",
   "outputs": [],
   "execution_count": 10
  },
  {
   "metadata": {
    "ExecuteTime": {
     "end_time": "2025-03-12T23:33:58.561111Z",
     "start_time": "2025-03-12T23:33:58.557326Z"
    }
   },
   "cell_type": "code",
   "source": "num = adder(1, 2)",
   "id": "8f8f296b0d5644dd",
   "outputs": [],
   "execution_count": 12
  },
  {
   "metadata": {
    "ExecuteTime": {
     "end_time": "2025-03-12T23:34:04.867729Z",
     "start_time": "2025-03-12T23:34:04.861233Z"
    }
   },
   "cell_type": "code",
   "source": "print(num)",
   "id": "2cb7ab60dba4d3fe",
   "outputs": [
    {
     "name": "stdout",
     "output_type": "stream",
     "text": [
      "3\n"
     ]
    }
   ],
   "execution_count": 13
  },
  {
   "metadata": {
    "ExecuteTime": {
     "end_time": "2025-03-12T23:37:18.207468Z",
     "start_time": "2025-03-12T23:37:18.203262Z"
    }
   },
   "cell_type": "code",
   "source": [
    "# lets make a fizzbuzz function\n",
    "\n",
    "def fizzbuzz(n:int):\n",
    "    if n % 3 == 0 and n % 5 == 0:\n",
    "        return f\"{n}: FizzBuzz\"\n",
    "    elif n % 3 == 0:\n",
    "        return f\"{n}: Fizz\"\n",
    "    elif n % 5 == 0:\n",
    "        return f\"{n}: Buzz\"\n",
    "    else:\n",
    "        return n"
   ],
   "id": "51233e4062cef42c",
   "outputs": [],
   "execution_count": 16
  },
  {
   "metadata": {
    "ExecuteTime": {
     "end_time": "2025-03-12T23:37:19.085921Z",
     "start_time": "2025-03-12T23:37:19.083242Z"
    }
   },
   "cell_type": "code",
   "source": "fizzbuzz(5)",
   "id": "c8095bd7b4222d1a",
   "outputs": [
    {
     "data": {
      "text/plain": [
       "'5: Buzz'"
      ]
     },
     "execution_count": 17,
     "metadata": {},
     "output_type": "execute_result"
    }
   ],
   "execution_count": 17
  },
  {
   "metadata": {
    "ExecuteTime": {
     "end_time": "2025-03-12T23:37:21.929440Z",
     "start_time": "2025-03-12T23:37:21.925197Z"
    }
   },
   "cell_type": "code",
   "source": [
    "# lets create a fuzzbuzz runner that runs the fizzbuzz function from 1 to 100.\n",
    "\n",
    "def fizzbuzz_runner(num:int):\n",
    "    for i in range(1, num+1): # the reason i am putting num + 1 is because the range function is exclusive of the last number.aand the user wants to include the last number.\n",
    "        print(fizzbuzz(i))"
   ],
   "id": "b9f7b247129ee325",
   "outputs": [],
   "execution_count": 18
  },
  {
   "metadata": {
    "ExecuteTime": {
     "end_time": "2025-03-12T23:37:30.005862Z",
     "start_time": "2025-03-12T23:37:29.999829Z"
    }
   },
   "cell_type": "code",
   "source": "fizzbuzz_runner(15)",
   "id": "6af0268e67b608b1",
   "outputs": [
    {
     "name": "stdout",
     "output_type": "stream",
     "text": [
      "1\n",
      "2\n",
      "3: Fizz\n",
      "4\n",
      "5: Buzz\n",
      "6: Fizz\n",
      "7\n",
      "8\n",
      "9: Fizz\n",
      "10: Buzz\n",
      "11\n",
      "12: Fizz\n",
      "13\n",
      "14\n",
      "15: FizzBuzz\n"
     ]
    }
   ],
   "execution_count": 19
  },
  {
   "metadata": {},
   "cell_type": "code",
   "outputs": [],
   "execution_count": null,
   "source": "",
   "id": "ab8249c284b51186"
  }
 ],
 "metadata": {
  "kernelspec": {
   "display_name": "Python 3",
   "language": "python",
   "name": "python3"
  },
  "language_info": {
   "codemirror_mode": {
    "name": "ipython",
    "version": 2
   },
   "file_extension": ".py",
   "mimetype": "text/x-python",
   "name": "python",
   "nbconvert_exporter": "python",
   "pygments_lexer": "ipython2",
   "version": "2.7.6"
  }
 },
 "nbformat": 4,
 "nbformat_minor": 5
}
