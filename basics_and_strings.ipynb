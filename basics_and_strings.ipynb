{
 "cells": [
  {
   "metadata": {},
   "cell_type": "markdown",
   "source": [
    "### Basics and Strings\n",
    "- by Rose Tovar"
   ],
   "id": "b4e310ee00f521b9"
  },
  {
   "metadata": {
    "ExecuteTime": {
     "end_time": "2025-03-10T23:28:30.705482Z",
     "start_time": "2025-03-10T23:28:30.698894Z"
    }
   },
   "cell_type": "code",
   "source": "print(\"Hello, World!\")",
   "id": "37749d9dd6d1df0a",
   "outputs": [
    {
     "name": "stdout",
     "output_type": "stream",
     "text": [
      "Hello, World!\n"
     ]
    }
   ],
   "execution_count": 1
  },
  {
   "metadata": {},
   "cell_type": "markdown",
   "source": [
    "#### Basic Data Types\n",
    "- Strings\n",
    "- Integers\n",
    "- Floats\n",
    "- Booleans\n",
    "- Imginary Numbers"
   ],
   "id": "d7a175b57888ae38"
  },
  {
   "metadata": {
    "ExecuteTime": {
     "end_time": "2025-03-10T23:28:32.297753Z",
     "start_time": "2025-03-10T23:28:32.293001Z"
    }
   },
   "cell_type": "code",
   "source": [
    "name = \"Rose\" #This is a string\\\n",
    "other = 'Celty' #This is also a string\n",
    "\n",
    "age = 25 #This is an integer\n",
    "pi = 3.14 #This is a float\n",
    "img = 2j #This is an imaginary number\n",
    "\n",
    "bool = True\n",
    "bool2 = False"
   ],
   "id": "7d6b5648688074e6",
   "outputs": [],
   "execution_count": 2
  },
  {
   "metadata": {},
   "cell_type": "markdown",
   "source": " Variables are like boxes that store data. You can store any type of data in a variable.",
   "id": "f0ed835172e08fd2"
  },
  {
   "metadata": {
    "ExecuteTime": {
     "end_time": "2025-03-10T23:28:34.046811Z",
     "start_time": "2025-03-10T23:28:34.042727Z"
    }
   },
   "cell_type": "code",
   "source": "print(name)",
   "id": "32bb87eb61e86ff5",
   "outputs": [
    {
     "name": "stdout",
     "output_type": "stream",
     "text": [
      "Rose\n"
     ]
    }
   ],
   "execution_count": 3
  },
  {
   "metadata": {
    "ExecuteTime": {
     "end_time": "2025-03-10T23:28:40.644991Z",
     "start_time": "2025-03-10T23:28:35.740983Z"
    }
   },
   "cell_type": "code",
   "source": "name = input(\"What is your name? \")",
   "id": "fbb6e1cb66e925a3",
   "outputs": [],
   "execution_count": 4
  },
  {
   "metadata": {
    "ExecuteTime": {
     "end_time": "2025-03-10T23:28:41.380840Z",
     "start_time": "2025-03-10T23:28:41.377164Z"
    }
   },
   "cell_type": "code",
   "source": "print(name)",
   "id": "56406307a6052031",
   "outputs": [
    {
     "name": "stdout",
     "output_type": "stream",
     "text": [
      "Rose\n"
     ]
    }
   ],
   "execution_count": 5
  },
  {
   "metadata": {
    "ExecuteTime": {
     "end_time": "2025-03-10T23:28:42.086577Z",
     "start_time": "2025-03-10T23:28:42.084181Z"
    }
   },
   "cell_type": "code",
   "source": "print(\"Hello, \" + name)",
   "id": "d332d224cfb21c67",
   "outputs": [
    {
     "name": "stdout",
     "output_type": "stream",
     "text": [
      "Hello, Rose\n"
     ]
    }
   ],
   "execution_count": 6
  },
  {
   "metadata": {
    "ExecuteTime": {
     "end_time": "2025-03-10T23:28:43.294450Z",
     "start_time": "2025-03-10T23:28:43.290406Z"
    }
   },
   "cell_type": "code",
   "source": [
    "concat = \"Hello\" + \"Again\" + \"World\"\n",
    "print(concat)"
   ],
   "id": "1f14d9e013bdcaa4",
   "outputs": [
    {
     "name": "stdout",
     "output_type": "stream",
     "text": [
      "HelloAgainWorld\n"
     ]
    }
   ],
   "execution_count": 7
  },
  {
   "metadata": {
    "ExecuteTime": {
     "end_time": "2025-03-10T23:28:51.082860Z",
     "start_time": "2025-03-10T23:28:51.080378Z"
    }
   },
   "cell_type": "code",
   "source": [
    "str_word = \"Hello \" + name + \". You are \" + str(age) + \" years old.\"\n",
    "print(str_word)"
   ],
   "id": "e779a3fb82f3bc13",
   "outputs": [
    {
     "name": "stdout",
     "output_type": "stream",
     "text": [
      "Hello Rose. You are 25 years old.\n"
     ]
    }
   ],
   "execution_count": 8
  },
  {
   "metadata": {
    "ExecuteTime": {
     "end_time": "2025-03-10T23:30:37.594542Z",
     "start_time": "2025-03-10T23:30:37.591141Z"
    }
   },
   "cell_type": "code",
   "source": [
    "str_word = f\"Hello {name}. You are {age} years old.\"\n",
    "print(str_word)"
   ],
   "id": "e600d56b52c26164",
   "outputs": [
    {
     "name": "stdout",
     "output_type": "stream",
     "text": [
      "Hello Rose. You are 25 years old.\n"
     ]
    }
   ],
   "execution_count": 9
  },
  {
   "metadata": {},
   "cell_type": "code",
   "outputs": [],
   "execution_count": null,
   "source": "",
   "id": "c80b3eb0059f1737"
  }
 ],
 "metadata": {
  "kernelspec": {
   "display_name": "Python 3",
   "language": "python",
   "name": "python3"
  },
  "language_info": {
   "codemirror_mode": {
    "name": "ipython",
    "version": 2
   },
   "file_extension": ".py",
   "mimetype": "text/x-python",
   "name": "python",
   "nbconvert_exporter": "python",
   "pygments_lexer": "ipython2",
   "version": "2.7.6"
  }
 },
 "nbformat": 4,
 "nbformat_minor": 5
}
