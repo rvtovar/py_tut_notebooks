{
 "cells": [
  {
   "cell_type": "markdown",
   "metadata": {},
   "source": [
    "# Lesson: Basics of NumPy\n",
    "\n",
    "## Introduction\n",
    "\n",
    "NumPy is a powerful library for numerical computing in Python. It provides support for arrays, matrices, and many mathematical functions to operate on these data structures. In this lesson, we will cover the basics of NumPy, including how to create arrays, perform basic operations, and use some of its essential functions.\n",
    "\n",
    "### Prerequisites\n",
    "- Basic understanding of Python programming\n",
    "- Python installed on your machine\n",
    "- NumPy library installed (`pip install numpy`)\n"
   ]
  },
  {
   "cell_type": "markdown",
   "metadata": {},
   "source": [
    "## 1. Importing NumPy\n",
    "\n",
    "Before using NumPy, you need to import it. The convention is to import it as `np`.\n",
    "\n",
    "```python\n",
    "import numpy as np\n",
    "```\n"
   ]
  },
  {
   "cell_type": "code",
   "execution_count": 1,
   "metadata": {},
   "outputs": [],
   "source": [
    "import numpy as np"
   ]
  },
  {
   "cell_type": "markdown",
   "metadata": {},
   "source": [
    "## 2. Creating Arrays\n",
    "\n",
    "### 2.1. Creating a NumPy Array\n",
    "\n",
    "You can create a NumPy array from a Python list using the `np.array()` function.\n",
    "\n",
    "```python\n",
    "# Creating a 1D array\n",
    "arr = np.array([1, 2, 3, 4, 5])\n",
    "print(arr)\n",
    "```\n"
   ]
  },
  {
   "cell_type": "code",
   "execution_count": 2,
   "metadata": {},
   "outputs": [
    {
     "name": "stdout",
     "output_type": "stream",
     "text": [
      "[1 2 3 4 5]\n"
     ]
    }
   ],
   "source": [
    "# Creating a 1D array\n",
    "arr = np.array([1, 2, 3, 4, 5])\n",
    "print(arr)"
   ]
  },
  {
   "cell_type": "markdown",
   "metadata": {},
   "source": [
    "### 2.2. Creating Arrays with Zeros, Ones, and a Range of Numbers\n",
    "\n",
    "NumPy provides functions to create arrays with initial values like zeros, ones, and a range of numbers.\n",
    "\n",
    "```python\n",
    "# Creating an array of zeros\n",
    "zeros_arr = np.zeros(5)\n",
    "print(zeros_arr)\n",
    "\n",
    "# Creating an array of ones\n",
    "ones_arr = np.ones(5)\n",
    "print(ones_arr)\n",
    "\n",
    "# Creating an array with a range of numbers\n",
    "range_arr = np.arange(1, 10, 2)\n",
    "print(range_arr)\n",
    "```\n"
   ]
  },
  {
   "cell_type": "code",
   "execution_count": 3,
   "metadata": {},
   "outputs": [
    {
     "name": "stdout",
     "output_type": "stream",
     "text": [
      "[0. 0. 0. 0. 0.]\n",
      "[1. 1. 1. 1. 1.]\n",
      "[1 3 5 7 9]\n"
     ]
    }
   ],
   "source": [
    "# Creating an array of zeros\n",
    "zeros_arr = np.zeros(5)\n",
    "print(zeros_arr)\n",
    "\n",
    "# Creating an array of ones\n",
    "ones_arr = np.ones(5)\n",
    "print(ones_arr)\n",
    "\n",
    "# Creating an array with a range of numbers\n",
    "range_arr = np.arange(1, 10, 2)\n",
    "print(range_arr)\n"
   ]
  },
  {
   "cell_type": "markdown",
   "metadata": {},
   "source": [
    "## 3. Array Operations\n",
    "\n",
    "### 3.1. Basic Arithmetic Operations\n",
    "\n",
    "You can perform element-wise arithmetic operations on NumPy arrays.\n",
    "\n",
    "```python\n",
    "arr1 = np.array([1, 2, 3])\n",
    "arr2 = np.array([4, 5, 6])\n",
    "\n",
    "# Addition\n",
    "print(arr1 + arr2)\n",
    "\n",
    "# Subtraction\n",
    "print(arr1 - arr2)\n",
    "\n",
    "# Multiplication\n",
    "print(arr1 * arr2)\n",
    "\n",
    "# Division\n",
    "print(arr1 / arr2)\n",
    "```\n"
   ]
  },
  {
   "cell_type": "code",
   "execution_count": 4,
   "metadata": {},
   "outputs": [
    {
     "name": "stdout",
     "output_type": "stream",
     "text": [
      "[5 7 9]\n",
      "[-3 -3 -3]\n",
      "[ 4 10 18]\n",
      "[0.25 0.4  0.5 ]\n"
     ]
    }
   ],
   "source": [
    "arr1 = np.array([1, 2, 3])\n",
    "arr2 = np.array([4, 5, 6])\n",
    "\n",
    "# Addition\n",
    "print(arr1 + arr2)\n",
    "\n",
    "# Subtraction\n",
    "print(arr1 - arr2)\n",
    "\n",
    "# Multiplication\n",
    "print(arr1 * arr2)\n",
    "\n",
    "# Division\n",
    "print(arr1 / arr2)\n"
   ]
  },
  {
   "cell_type": "markdown",
   "metadata": {},
   "source": [
    "### 3.2. Mathematical Functions\n",
    "\n",
    "NumPy provides many mathematical functions to operate on arrays.\n",
    "\n",
    "```python\n",
    "# Square root\n",
    "print(np.sqrt(arr))\n",
    "\n",
    "# Exponential\n",
    "print(np.exp(arr))\n",
    "\n",
    "# Sine\n",
    "print(np.sin(arr))\n",
    "\n",
    "# Logarithm\n",
    "print(np.log(arr))\n",
    "```\n"
   ]
  },
  {
   "cell_type": "code",
   "execution_count": 5,
   "metadata": {},
   "outputs": [
    {
     "name": "stdout",
     "output_type": "stream",
     "text": [
      "[1.         1.41421356 1.73205081 2.         2.23606798]\n",
      "[  2.71828183   7.3890561   20.08553692  54.59815003 148.4131591 ]\n",
      "[ 0.84147098  0.90929743  0.14112001 -0.7568025  -0.95892427]\n",
      "[0.         0.69314718 1.09861229 1.38629436 1.60943791]\n"
     ]
    }
   ],
   "source": [
    "# Square root\n",
    "print(np.sqrt(arr))\n",
    "\n",
    "# Exponential\n",
    "print(np.exp(arr))\n",
    "\n",
    "# Sine\n",
    "print(np.sin(arr))\n",
    "\n",
    "# Logarithm\n",
    "print(np.log(arr))\n"
   ]
  },
  {
   "cell_type": "markdown",
   "metadata": {},
   "source": [
    "## 4. Reshaping Arrays\n",
    "\n",
    "You can change the shape of an array using the `reshape()` function.\n",
    "\n",
    "```python\n",
    "# Creating a 1D array\n",
    "arr = np.arange(1, 10)\n",
    "\n",
    "# Reshaping to a 2D array\n",
    "reshaped_arr = arr.reshape(3, 3)\n",
    "print(reshaped_arr)\n",
    "```\n"
   ]
  },
  {
   "cell_type": "code",
   "execution_count": 6,
   "metadata": {},
   "outputs": [
    {
     "name": "stdout",
     "output_type": "stream",
     "text": [
      "[[1 2 3]\n",
      " [4 5 6]\n",
      " [7 8 9]]\n"
     ]
    }
   ],
   "source": [
    "# Creating a 1D array\n",
    "arr = np.arange(1, 10)\n",
    "\n",
    "# Reshaping to a 2D array\n",
    "reshaped_arr = arr.reshape(3, 3)\n",
    "print(reshaped_arr)\n"
   ]
  },
  {
   "cell_type": "markdown",
   "metadata": {},
   "source": [
    "## 5. Indexing and Slicing\n",
    "\n",
    "You can access elements of a NumPy array using indexing and slicing.\n",
    "\n",
    "```python\n",
    "arr = np.array([1, 2, 3, 4, 5])\n",
    "\n",
    "# Indexing\n",
    "print(arr[0])  # First element\n",
    "print(arr[-1])  # Last element\n",
    "\n",
    "# Slicing\n",
    "print(arr[1:4])  # Elements from index 1 to 3\n",
    "print(arr[:3])  # First three elements\n",
    "print(arr[2:])  # Elements from index 2 to the end\n",
    "```\n"
   ]
  },
  {
   "cell_type": "code",
   "execution_count": 7,
   "metadata": {},
   "outputs": [
    {
     "name": "stdout",
     "output_type": "stream",
     "text": [
      "1\n",
      "5\n",
      "[2 3 4]\n",
      "[1 2 3]\n",
      "[3 4 5]\n"
     ]
    }
   ],
   "source": [
    "arr = np.array([1, 2, 3, 4, 5])\n",
    "\n",
    "# Indexing\n",
    "print(arr[0])  # First element\n",
    "print(arr[-1])  # Last element\n",
    "\n",
    "# Slicing\n",
    "print(arr[1:4])  # Elements from index 1 to 3\n",
    "print(arr[:3])  # First three elements\n",
    "print(arr[2:])  # Elements from index 2 to the end\n"
   ]
  },
  {
   "cell_type": "markdown",
   "metadata": {},
   "source": [
    "## 6. Aggregation Functions\n",
    "\n",
    "NumPy provides various aggregation functions to summarize data.\n",
    "\n",
    "```python\n",
    "arr = np.array([1, 2, 3, 4, 5])\n",
    "\n",
    "# Sum\n",
    "print(np.sum(arr))\n",
    "\n",
    "# Mean\n",
    "print(np.mean(arr))\n",
    "\n",
    "# Standard Deviation\n",
    "print(np.std(arr))\n",
    "\n",
    "# Minimum\n",
    "print(np.min(arr))\n",
    "\n",
    "# Maximum\n",
    "print(np.max(arr))\n",
    "```\n"
   ]
  },
  {
   "cell_type": "code",
   "execution_count": 8,
   "metadata": {},
   "outputs": [
    {
     "name": "stdout",
     "output_type": "stream",
     "text": [
      "15\n",
      "3.0\n",
      "1.4142135623730951\n",
      "1\n",
      "5\n"
     ]
    }
   ],
   "source": [
    "arr = np.array([1, 2, 3, 4, 5])\n",
    "\n",
    "# Sum\n",
    "print(np.sum(arr))\n",
    "\n",
    "# Mean\n",
    "print(np.mean(arr))\n",
    "\n",
    "# Standard Deviation\n",
    "print(np.std(arr))\n",
    "\n",
    "# Minimum\n",
    "print(np.min(arr))\n",
    "\n",
    "# Maximum\n",
    "print(np.max(arr))\n"
   ]
  },
  {
   "cell_type": "markdown",
   "metadata": {},
   "source": [
    "## Conclusion\n",
    "\n",
    "In this lesson, we covered the basics of NumPy, including how to create arrays, perform basic operations, and use some of its essential functions. NumPy is a powerful library that provides many more functionalities for numerical computing, and this lesson is just the beginning. Explore more functions and features in the NumPy documentation to enhance your skills.\n",
    "\n",
    "## Exercises\n",
    "\n",
    "1. Create a 2D array with shape (3, 4) filled with random numbers.\n",
    "2. Calculate the sum of all elements in a given array.\n",
    "3. Reshape a 1D array of 12 elements into a 3x4 matrix.\n",
    "4. Find the maximum value in a 2D array and its index.\n",
    "5. Create an array with 10 elements and replace all even numbers with -1.\n",
    "\n",
    "Happy Learning!"
   ]
  }
 ],
 "metadata": {
  "kernelspec": {
   "display_name": "Python 3",
   "language": "python",
   "name": "python3"
  },
  "language_info": {
   "codemirror_mode": {
    "name": "ipython",
    "version": 3
   },
   "file_extension": ".py",
   "mimetype": "text/x-python",
   "name": "python",
   "nbconvert_exporter": "python",
   "pygments_lexer": "ipython3",
   "version": "3.8.5"
  }
 },
 "nbformat": 4,
 "nbformat_minor": 4
}