{
 "cells": [
  {
   "cell_type": "markdown",
   "metadata": {},
   "source": [
    "# Lesson: Basics of NumPy\n",
    "\n",
    "## Introduction\n",
    "\n",
    "NumPy is a powerful library for numerical computing in Python. It provides support for arrays, matrices, and many mathematical functions to operate on these data structures. In this lesson, we will cover the basics of NumPy, including how to create arrays, perform basic operations, and use some of its essential functions.\n",
    "\n",
    "### Prerequisites\n",
    "- Basic understanding of Python programming\n",
    "- Python installed on your machine\n",
    "- NumPy library installed (`pip install numpy`)\n"
   ]
  },
  {
   "cell_type": "markdown",
   "metadata": {},
   "source": [
    "## 1. Importing NumPy\n",
    "\n",
    "Before using NumPy, you need to import it. The convention is to import it as `np`.\n",
    "\n",
    "```python\n",
    "import numpy as np\n",
    "```\n"
   ]
  },
  {
   "cell_type": "code",
   "metadata": {
    "ExecuteTime": {
     "end_time": "2025-03-19T23:25:35.278719Z",
     "start_time": "2025-03-19T23:25:35.269817Z"
    }
   },
   "source": [
    "import numpy as np"
   ],
   "outputs": [],
   "execution_count": 2
  },
  {
   "cell_type": "markdown",
   "metadata": {},
   "source": [
    "## 2. Creating Arrays\n",
    "\n",
    "### 2.1. Creating a NumPy Array\n",
    "\n",
    "You can create a NumPy array from a Python list using the `np.array()` function.\n",
    "\n",
    "```python\n",
    "# Creating a 1D array\n",
    "arr = np.array([1, 2, 3, 4, 5])\n",
    "print(arr)\n",
    "```\n"
   ]
  },
  {
   "cell_type": "code",
   "metadata": {
    "ExecuteTime": {
     "end_time": "2025-03-19T23:26:05.270714Z",
     "start_time": "2025-03-19T23:26:05.259781Z"
    }
   },
   "source": [
    "# Creating a 1D array\n",
    "arr = np.array([1, 2, 3, 4, 5])\n",
    "print(arr)"
   ],
   "outputs": [
    {
     "name": "stdout",
     "output_type": "stream",
     "text": [
      "[1 2 3 4 5]\n"
     ]
    }
   ],
   "execution_count": 3
  },
  {
   "metadata": {
    "ExecuteTime": {
     "end_time": "2025-03-19T23:26:29.204459Z",
     "start_time": "2025-03-19T23:26:29.200457Z"
    }
   },
   "cell_type": "code",
   "source": [
    "nums = np.array(range(10))\n",
    "print(nums)"
   ],
   "outputs": [
    {
     "name": "stdout",
     "output_type": "stream",
     "text": [
      "[0 1 2 3 4 5 6 7 8 9]\n"
     ]
    }
   ],
   "execution_count": 4
  },
  {
   "cell_type": "markdown",
   "metadata": {},
   "source": [
    "### 2.2. Creating Arrays with Zeros, Ones, and a Range of Numbers\n",
    "\n",
    "NumPy provides functions to create arrays with initial values like zeros, ones, and a range of numbers.\n",
    "\n",
    "```python\n",
    "# Creating an array of zeros\n",
    "zeros_arr = np.zeros(5)\n",
    "print(zeros_arr)\n",
    "\n",
    "# Creating an array of ones\n",
    "ones_arr = np.ones(5)\n",
    "print(ones_arr)\n",
    "\n",
    "# Creating an array with a range of numbers\n",
    "range_arr = np.arange(1, 10, 2)\n",
    "print(range_arr)\n",
    "```\n"
   ]
  },
  {
   "cell_type": "code",
   "metadata": {
    "ExecuteTime": {
     "end_time": "2025-03-19T23:29:58.854182Z",
     "start_time": "2025-03-19T23:29:58.849320Z"
    }
   },
   "source": [
    "# Creating an array of zeros\n",
    "zeros_arr = np.zeros(5)\n",
    "print(zeros_arr)\n",
    "\n",
    "# Creating an array of ones\n",
    "ones_arr = np.ones(5)\n",
    "print(ones_arr)\n",
    "\n",
    "# Creating an array with a range of numbers\n",
    "range_arr = np.arange(1, 10, 3)\n",
    "print(range_arr)\n"
   ],
   "outputs": [
    {
     "name": "stdout",
     "output_type": "stream",
     "text": [
      "[0. 0. 0. 0. 0.]\n",
      "[1. 1. 1. 1. 1.]\n",
      "[1 4 7]\n"
     ]
    }
   ],
   "execution_count": 6
  },
  {
   "metadata": {
    "ExecuteTime": {
     "end_time": "2025-03-19T23:31:37.971891Z",
     "start_time": "2025-03-19T23:31:37.967847Z"
    }
   },
   "cell_type": "code",
   "source": [
    "range_arr = np.arange(1,15, 5)\n",
    "print(range_arr)"
   ],
   "outputs": [
    {
     "name": "stdout",
     "output_type": "stream",
     "text": [
      "[ 1  6 11]\n"
     ]
    }
   ],
   "execution_count": 8
  },
  {
   "cell_type": "markdown",
   "metadata": {},
   "source": [
    "## 3. Array Operations\n",
    "\n",
    "### 3.1. Basic Arithmetic Operations\n",
    "\n",
    "You can perform element-wise arithmetic operations on NumPy arrays.\n",
    "\n",
    "```python\n",
    "arr1 = np.array([1, 2, 3])\n",
    "arr2 = np.array([4, 5, 6])\n",
    "\n",
    "# Addition\n",
    "print(arr1 + arr2)\n",
    "\n",
    "# Subtraction\n",
    "print(arr1 - arr2)\n",
    "\n",
    "# Multiplication\n",
    "print(arr1 * arr2)\n",
    "\n",
    "# Division\n",
    "print(arr1 / arr2)\n",
    "```\n"
   ]
  },
  {
   "cell_type": "code",
   "metadata": {
    "ExecuteTime": {
     "end_time": "2025-03-19T23:35:58.082764Z",
     "start_time": "2025-03-19T23:35:58.077128Z"
    }
   },
   "source": [
    "arr1 = np.array([1, 2, 3])\n",
    "arr2 = np.array([4, 5, 6])\n",
    "\n",
    "# Addition\n",
    "print(arr1 + arr2 + arr1)\n",
    "# 0:6, 1:9: 2:12\n",
    "# Subtraction\n",
    "print(arr1 - arr2)\n",
    "\n",
    "# Multiplication\n",
    "print(arr1 * arr2)\n",
    "\n",
    "# Division\n",
    "print(arr1 / arr2)\n"
   ],
   "outputs": [
    {
     "name": "stdout",
     "output_type": "stream",
     "text": [
      "[ 6  9 12]\n",
      "[-3 -3 -3]\n",
      "[ 4 10 18]\n",
      "[0.25 0.4  0.5 ]\n"
     ]
    }
   ],
   "execution_count": 10
  },
  {
   "cell_type": "markdown",
   "metadata": {},
   "source": [
    "### 3.2. Mathematical Functions\n",
    "\n",
    "NumPy provides many mathematical functions to operate on arrays.\n",
    "\n",
    "```python\n",
    "# Square root\n",
    "print(np.sqrt(arr))\n",
    "\n",
    "# Exponential\n",
    "print(np.exp(arr))\n",
    "\n",
    "# Sine\n",
    "print(np.sin(arr))\n",
    "\n",
    "# Logarithm\n",
    "print(np.log(arr))\n",
    "```\n"
   ]
  },
  {
   "cell_type": "code",
   "metadata": {
    "ExecuteTime": {
     "end_time": "2025-03-19T23:37:45.766530Z",
     "start_time": "2025-03-19T23:37:45.761342Z"
    }
   },
   "source": [
    "# Square root\n",
    "\n",
    "arr = np.array([1, 4, 9, 16, 25])\n",
    "print(np.sqrt(arr))\n",
    "\n",
    "# Exponential\n",
    "print(np.exp(arr))\n",
    "\n",
    "# Sine\n",
    "print(np.sin(arr))\n",
    "\n",
    "# Logarithm\n",
    "print(np.log(arr))\n"
   ],
   "outputs": [
    {
     "name": "stdout",
     "output_type": "stream",
     "text": [
      "[1. 2. 3. 4. 5.]\n",
      "[2.71828183e+00 5.45981500e+01 8.10308393e+03 8.88611052e+06\n",
      " 7.20048993e+10]\n",
      "[ 0.84147098 -0.7568025   0.41211849 -0.28790332 -0.13235175]\n",
      "[0.         1.38629436 2.19722458 2.77258872 3.21887582]\n"
     ]
    }
   ],
   "execution_count": 12
  },
  {
   "cell_type": "markdown",
   "metadata": {},
   "source": [
    "## 4. Reshaping Arrays\n",
    "\n",
    "You can change the shape of an array using the `reshape()` function.\n",
    "\n",
    "```python\n",
    "# Creating a 1D array\n",
    "arr = np.arange(1, 10)\n",
    "\n",
    "# Reshaping to a 2D array\n",
    "reshaped_arr = arr.reshape(3, 3)\n",
    "print(reshaped_arr)\n",
    "```\n"
   ]
  },
  {
   "cell_type": "code",
   "metadata": {
    "ExecuteTime": {
     "end_time": "2025-03-19T23:39:15.123459Z",
     "start_time": "2025-03-19T23:39:15.113032Z"
    }
   },
   "source": [
    "# Creating a 1D array\n",
    "arr = np.arange(1, 10)\n",
    "print(arr)\n",
    "# Reshaping to a 2D array\n",
    "reshaped_arr = arr.reshape(3, 3)\n",
    "print(reshaped_arr)\n",
    "reshaped_arr[1][1]"
   ],
   "outputs": [
    {
     "name": "stdout",
     "output_type": "stream",
     "text": [
      "[1 2 3 4 5 6 7 8 9]\n",
      "[[1 2 3]\n",
      " [4 5 6]\n",
      " [7 8 9]]\n"
     ]
    },
    {
     "data": {
      "text/plain": [
       "np.int64(5)"
      ]
     },
     "execution_count": 14,
     "metadata": {},
     "output_type": "execute_result"
    }
   ],
   "execution_count": 14
  },
  {
   "cell_type": "markdown",
   "metadata": {},
   "source": [
    "## 5. Indexing and Slicing\n",
    "\n",
    "You can access elements of a NumPy array using indexing and slicing.\n",
    "\n",
    "```python\n",
    "arr = np.array([1, 2, 3, 4, 5])\n",
    "\n",
    "# Indexing\n",
    "print(arr[0])  # First element\n",
    "print(arr[-1])  # Last element\n",
    "\n",
    "# Slicing\n",
    "print(arr[1:4])  # Elements from index 1 to 3\n",
    "print(arr[:3])  # First three elements\n",
    "print(arr[2:])  # Elements from index 2 to the end\n",
    "```\n"
   ]
  },
  {
   "cell_type": "code",
   "metadata": {
    "ExecuteTime": {
     "end_time": "2025-03-19T23:40:14.766415Z",
     "start_time": "2025-03-19T23:40:14.761346Z"
    }
   },
   "source": [
    "arr = np.array([1, 2, 3, 4, 5])\n",
    "\n",
    "# Indexing\n",
    "print(arr[0])  # First element\n",
    "print(arr[-1])  # Last element\n",
    "\n",
    "# Slicing\n",
    "print(arr[1:4])  # Elements from index 1 to 3\n",
    "print(arr[:3])  # First three elements\n",
    "print(arr[2:])  # Elements from index 2 to the end\n"
   ],
   "outputs": [
    {
     "name": "stdout",
     "output_type": "stream",
     "text": [
      "1\n",
      "5\n",
      "[2 3 4]\n",
      "[1 2 3]\n",
      "[3 4 5]\n"
     ]
    }
   ],
   "execution_count": 15
  },
  {
   "cell_type": "markdown",
   "metadata": {},
   "source": [
    "## 6. Aggregation Functions\n",
    "\n",
    "NumPy provides various aggregation functions to summarize data.\n",
    "\n",
    "```python\n",
    "arr = np.array([1, 2, 3, 4, 5])\n",
    "\n",
    "# Sum\n",
    "print(np.sum(arr))\n",
    "\n",
    "# Mean\n",
    "print(np.mean(arr))\n",
    "\n",
    "# Standard Deviation\n",
    "print(np.std(arr))\n",
    "\n",
    "# Minimum\n",
    "print(np.min(arr))\n",
    "\n",
    "# Maximum\n",
    "print(np.max(arr))\n",
    "```\n"
   ]
  },
  {
   "cell_type": "code",
   "metadata": {
    "ExecuteTime": {
     "end_time": "2025-03-19T23:41:45.568855Z",
     "start_time": "2025-03-19T23:41:45.562075Z"
    }
   },
   "source": [
    "arr = np.array([1, 2, 3, 4, 5])\n",
    "\n",
    "# Sum\n",
    "print(np.sum(arr))\n",
    "\n",
    "# Mean\n",
    "print(np.mean(arr))\n",
    "\n",
    "# Standard Deviation\n",
    "print(np.std(arr))\n",
    "\n",
    "# Minimum\n",
    "print(np.min(arr))\n",
    "\n",
    "# Maximum\n",
    "print(np.max(arr))\n"
   ],
   "outputs": [
    {
     "name": "stdout",
     "output_type": "stream",
     "text": [
      "15\n",
      "3.0\n",
      "1.4142135623730951\n",
      "1\n",
      "5\n"
     ]
    }
   ],
   "execution_count": 16
  },
  {
   "cell_type": "markdown",
   "metadata": {},
   "source": [
    "## Conclusion\n",
    "\n",
    "In this lesson, we covered the basics of NumPy, including how to create arrays, perform basic operations, and use some of its essential functions. NumPy is a powerful library that provides many more functionalities for numerical computing, and this lesson is just the beginning. Explore more functions and features in the NumPy documentation to enhance your skills.\n",
    "\n",
    "## Exercises\n",
    "\n",
    "1. Create a 2D array with shape (3, 4) filled with random numbers.\n",
    "2. Calculate the sum of all elements in a given array.\n",
    "3. Reshape a 1D array of 12 elements into a 3x4 matrix.\n",
    "4. Find the maximum value in a 2D array and its index.\n",
    "5. Create an array with 10 elements and replace all even numbers with -1.\n",
    "\n",
    "Happy Learning!\n",
    "\n",
    "\n"
   ]
  },
  {
   "metadata": {
    "ExecuteTime": {
     "end_time": "2025-03-19T23:43:42.962788Z",
     "start_time": "2025-03-19T23:43:42.957967Z"
    }
   },
   "cell_type": "code",
   "source": [
    "## I want to demonstrate the use of the random function\n",
    "## and creating multi-dimensional arrays\n",
    "\n",
    "# Creating a 2D array with shape (3, 4) filled with random numbers\n",
    "\n",
    "arr = np.random.rand(3, 4)\n",
    "print(arr)\n",
    "\n",
    "#create a multi-dimensional array of non random numbers\n",
    "arr = np.array([[1, 2, 3, 4], [5, 6, 7, 8], [9, 10, 11, 12]])"
   ],
   "outputs": [
    {
     "name": "stdout",
     "output_type": "stream",
     "text": [
      "[[0.00963259 0.65268936 0.6886477  0.20395185]\n",
      " [0.66577869 0.64313773 0.79087199 0.04386209]\n",
      " [0.03843859 0.55279548 0.37721851 0.38079486]]\n"
     ]
    }
   ],
   "execution_count": 18
  },
  {
   "metadata": {
    "ExecuteTime": {
     "end_time": "2025-03-19T23:44:13.029512Z",
     "start_time": "2025-03-19T23:44:13.026888Z"
    }
   },
   "cell_type": "code",
   "source": [
    "arr = np.arange(1,10)\n",
    "arr = arr.reshape(3, 3)"
   ],
   "outputs": [],
   "execution_count": 22
  },
  {
   "metadata": {
    "ExecuteTime": {
     "end_time": "2025-03-19T23:44:21.883784Z",
     "start_time": "2025-03-19T23:44:21.881187Z"
    }
   },
   "cell_type": "code",
   "source": "print(arr)",
   "outputs": [
    {
     "name": "stdout",
     "output_type": "stream",
     "text": [
      "[[1 2 3]\n",
      " [4 5 6]\n",
      " [7 8 9]]\n"
     ]
    }
   ],
   "execution_count": 24
  },
  {
   "metadata": {},
   "cell_type": "code",
   "outputs": [],
   "execution_count": null,
   "source": ""
  }
 ],
 "metadata": {
  "kernelspec": {
   "display_name": "Python 3",
   "language": "python",
   "name": "python3"
  },
  "language_info": {
   "codemirror_mode": {
    "name": "ipython",
    "version": 3
   },
   "file_extension": ".py",
   "mimetype": "text/x-python",
   "name": "python",
   "nbconvert_exporter": "python",
   "pygments_lexer": "ipython3",
   "version": "3.8.5"
  }
 },
 "nbformat": 4,
 "nbformat_minor": 4
}
